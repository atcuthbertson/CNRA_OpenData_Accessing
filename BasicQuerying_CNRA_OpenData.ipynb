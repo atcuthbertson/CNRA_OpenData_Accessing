{
  "nbformat": 4,
  "nbformat_minor": 0,
  "metadata": {
    "colab": {
      "provenance": [],
      "toc_visible": true,
      "authorship_tag": "ABX9TyPg3tTLcG2MFwW7VlgF4+JS",
      "include_colab_link": true
    },
    "kernelspec": {
      "name": "python3",
      "display_name": "Python 3"
    },
    "language_info": {
      "name": "python"
    }
  },
  "cells": [
    {
      "cell_type": "markdown",
      "metadata": {
        "id": "view-in-github",
        "colab_type": "text"
      },
      "source": [
        "<a href=\"https://colab.research.google.com/github/atcuthbertson/CNRA_OpenData_Accessing/blob/main/BasicQuerying_CNRA_OpenData.ipynb\" target=\"_parent\"><img src=\"https://colab.research.google.com/assets/colab-badge.svg\" alt=\"Open In Colab\"/></a>"
      ]
    },
    {
      "cell_type": "markdown",
      "source": [
        "# Notebook demonstrating some basic querying of CNRA Resources using the Datastore API"
      ],
      "metadata": {
        "id": "FEu0r_rvFzKJ"
      }
    },
    {
      "cell_type": "markdown",
      "source": [
        "# Introduction"
      ],
      "metadata": {
        "id": "1DhrwGPl88ys"
      }
    },
    {
      "cell_type": "markdown",
      "source": [
        "## Documentation on the APIs used:\n",
        "\n",
        "https://docs.ckan.org/en/2.9/api/index.html\n",
        "\n",
        "## Limits to Queries\n",
        "The CNRA Open Data platform has a return limit of 50,000 records from a query* (subject to change)\n",
        "\n",
        "## Get an API Key\n",
        "\n",
        "How to get a CNRA Open DAta API Key (needed for making advanced SQL Queries).  \n",
        "    \n",
        "1. Create an account in CNRA Open Data.  Go here: https://data.cnra.ca.gov/user/login  and click 'Create Account' on lefthand side of window.\n",
        "\n",
        "2. Once you have an account, you are immediately issued an API Key.  Go to your User page (in the toolbar on the top right, you will see an icon and your initials, click this to go to your user page.  You will find your API key on the lefthand column on your user page.\n",
        "\n",
        "\n",
        "### IMPORTANT:  For examples 3 and 4 in this notebook to work, you will need to get your own API Key and place it in the cell below, on the line 13 key=\\<\\<your api key here\\>\\>  ###\n",
        "\n",
        "For example, if your api key is '12345678-9abc-def1-2345-67890abcdef1', then line 13 should be changed to:\n",
        "key='12345678-9abc-def1-2345-67890abcdef1'"
      ],
      "metadata": {
        "id": "cdwvMMNk826_"
      }
    },
    {
      "cell_type": "markdown",
      "source": [],
      "metadata": {
        "id": "YDq118EUAQvK"
      }
    },
    {
      "cell_type": "code",
      "source": [
        "#get and store in variables some need information for the queries\n",
        "\n",
        "\n",
        "\n",
        "# also need resource_ids for resources in Open Data we want to query\n",
        "#resource IDs in CNRA Open Open Data\n",
        "resource_measurements = 'bfa9f262-24a1-45bd-8dc8-138bc8107266'\n",
        "resource_stations = 'af157380-fb42-4abf-b72a-6f9f98868077'\n",
        "resource_perforations = 'f1deaa6d-2cb5-4052-a73f-08a69f26b750'"
      ],
      "metadata": {
        "id": "Xsxn-Z6AcMsE"
      },
      "execution_count": null,
      "outputs": []
    },
    {
      "cell_type": "markdown",
      "source": [
        "## Example 1: Basic search (datastore_search) -- get first 5 records of a resource"
      ],
      "metadata": {
        "id": "oCl5MCJvBrv9"
      }
    },
    {
      "cell_type": "code",
      "source": [
        "#set up url for basic search for first 5 records of resource, using resource_id and limit parameters\n",
        "searchUrl = urlBasicSearch + '?resource_id=' + resourceLabResults + '&limit=5' + '&sort=\"sample_date\" '\n",
        "searchUrl"
      ],
      "metadata": {
        "colab": {
          "base_uri": "https://localhost:8080/",
          "height": 176
        },
        "id": "IQRk5SCQCJid",
        "outputId": "0a4d366b-5db9-4008-9416-f6fceff85c22"
      },
      "execution_count": null,
      "outputs": [
        {
          "output_type": "error",
          "ename": "NameError",
          "evalue": "name 'urlBasicSearch' is not defined",
          "traceback": [
            "\u001b[0;31m---------------------------------------------------------------------------\u001b[0m",
            "\u001b[0;31mNameError\u001b[0m                                 Traceback (most recent call last)",
            "\u001b[0;32m<ipython-input-12-ae964a00b908>\u001b[0m in \u001b[0;36m<cell line: 0>\u001b[0;34m()\u001b[0m\n\u001b[1;32m      1\u001b[0m \u001b[0;31m#set up url for basic search for first 5 records of resource, using resource_id and limit parameters\u001b[0m\u001b[0;34m\u001b[0m\u001b[0;34m\u001b[0m\u001b[0m\n\u001b[0;32m----> 2\u001b[0;31m \u001b[0msearchUrl\u001b[0m \u001b[0;34m=\u001b[0m \u001b[0murlBasicSearch\u001b[0m \u001b[0;34m+\u001b[0m \u001b[0;34m'?resource_id='\u001b[0m \u001b[0;34m+\u001b[0m \u001b[0mresourceLabResults\u001b[0m \u001b[0;34m+\u001b[0m \u001b[0;34m'&limit=5'\u001b[0m \u001b[0;34m+\u001b[0m \u001b[0;34m'&sort=\"sample_date\" '\u001b[0m\u001b[0;34m\u001b[0m\u001b[0;34m\u001b[0m\u001b[0m\n\u001b[0m\u001b[1;32m      3\u001b[0m \u001b[0msearchUrl\u001b[0m\u001b[0;34m\u001b[0m\u001b[0;34m\u001b[0m\u001b[0m\n",
            "\u001b[0;31mNameError\u001b[0m: name 'urlBasicSearch' is not defined"
          ]
        }
      ]
    },
    {
      "cell_type": "code",
      "source": [],
      "metadata": {
        "id": "ogLwC9xgOnHu"
      },
      "execution_count": null,
      "outputs": []
    },
    {
      "cell_type": "code",
      "source": [
        "# call the api using requests.get\n",
        "results = requests.get(searchUrl)\n",
        "\n",
        "#Parse the returned result json to get the results into a dataframe -- lots of ways to do this.  Here is one that works for me.\n",
        "df = pd.read_json(results.content)\n",
        "resultsList = df['result']['records']\n",
        "resultsTable = pd.json_normalize(resultsList) # normalize the resulting\n",
        "resultsTable"
      ],
      "metadata": {
        "id": "bJJU1R7uCExO"
      },
      "execution_count": null,
      "outputs": []
    },
    {
      "cell_type": "code",
      "source": [
        "#Need apiKey for sql queries using datastore_search_sql calls\n",
        "# apikey  -- stored in secrets. Replace this with your api key.\n",
        "\n",
        "from google.colab import userdata\n",
        "apikey= userdata.get('cnraOpenDataApiKey')\n",
        "\n",
        "# apikey = 'your-api-key-here'"
      ],
      "metadata": {
        "id": "KNkI4boMA1P2"
      },
      "execution_count": null,
      "outputs": []
    },
    {
      "cell_type": "code",
      "source": [
        "# prompt: function to request data using basic query from ckan datastore\n",
        "\n",
        "def query_ckan_datastore(resource_id, query):\n",
        "    \"\"\"Queries a CKAN datastore resource using a basic query.\n",
        "\n",
        "    Args:\n",
        "        resource_id: The ID of the CKAN datastore resource.\n",
        "        query: The SQL-like query string.\n",
        "\n",
        "    Returns:\n",
        "        A list of dictionaries representing the query results,\n",
        "        or None if there's an error.\n",
        "    \"\"\"\n",
        "\n",
        "    base_url = \"https://data.cnra.ca.gov/api/3/action/datastore_search_sql\"  # Replace with your CKAN instance's base URL\n",
        "    params = {\n",
        "        \"sql\": query\n",
        "    }\n",
        "    headers = {'Authorization': 'your_api_key'} # If needed, replace with your API key\n",
        "    try:\n",
        "        response = requests.get(base_url, params=params, headers = headers)\n",
        "        response.raise_for_status() # Raise an exception for bad status codes\n",
        "        data = response.json()\n",
        "\n",
        "        if data[\"success\"]:\n",
        "          return data[\"result\"][\"records\"]\n",
        "        else:\n",
        "          print(f\"Error querying datastore: {data['error']}\")\n",
        "          return None\n",
        "    except requests.exceptions.RequestException as e:\n",
        "        print(f\"Error querying CKAN datastore: {e}\")\n",
        "        return None"
      ],
      "metadata": {
        "id": "KThocyQ1P0uJ"
      },
      "execution_count": null,
      "outputs": []
    },
    {
      "cell_type": "code",
      "execution_count": null,
      "metadata": {
        "id": "o3hnWDNuFxFe"
      },
      "outputs": [],
      "source": [
        "\n",
        "\n",
        "\n",
        "# Example usage (replace with your resource ID and query)\n",
        "resource_id = resource_stations  # groundwater monitoring stations\n",
        "query = f\"SELECT site_code, gse FROM \\\"{resource_id}\\\" LIMIT 10\" # Example query, replace with your query\n",
        "results = query_ckan_datastore(resource_id, query)\n",
        "\n",
        "\n",
        "if results:\n",
        "    # Process the results\n",
        "    #for record in results:\n",
        "    #  record\n",
        "\n",
        "    # Or convert to a Pandas DataFrame:\n",
        "    #import pandas as pd\n",
        "    df = pd.DataFrame(results)\n",
        "    df\n"
      ]
    },
    {
      "cell_type": "code",
      "source": [
        "df"
      ],
      "metadata": {
        "colab": {
          "base_uri": "https://localhost:8080/",
          "height": 363
        },
        "id": "7K5cqnFbouZB",
        "outputId": "d65d9d23-58a9-440f-b8bf-594f4a1a5c4a"
      },
      "execution_count": null,
      "outputs": [
        {
          "output_type": "execute_result",
          "data": {
            "text/plain": [
              "            site_code        gse\n",
              "0  320000N1140000W001  545.92000\n",
              "1  325450N1171061W001   17.14000\n",
              "2  325450N1171061W002   17.14000\n",
              "3  325450N1171061W003   17.14000\n",
              "4  325450N1171061W004   17.14000\n",
              "5  325450N1171061W005   17.14000\n",
              "6  325493N1170884W001   28.16000\n",
              "7  325536N1170608W001   45.26000\n",
              "8  325538N1170626W001   37.18000\n",
              "9  325538N1170626W002   37.18000"
            ],
            "text/html": [
              "\n",
              "  <div id=\"df-cfae3d34-3e42-477c-9584-6d2af11e866d\" class=\"colab-df-container\">\n",
              "    <div>\n",
              "<style scoped>\n",
              "    .dataframe tbody tr th:only-of-type {\n",
              "        vertical-align: middle;\n",
              "    }\n",
              "\n",
              "    .dataframe tbody tr th {\n",
              "        vertical-align: top;\n",
              "    }\n",
              "\n",
              "    .dataframe thead th {\n",
              "        text-align: right;\n",
              "    }\n",
              "</style>\n",
              "<table border=\"1\" class=\"dataframe\">\n",
              "  <thead>\n",
              "    <tr style=\"text-align: right;\">\n",
              "      <th></th>\n",
              "      <th>site_code</th>\n",
              "      <th>gse</th>\n",
              "    </tr>\n",
              "  </thead>\n",
              "  <tbody>\n",
              "    <tr>\n",
              "      <th>0</th>\n",
              "      <td>320000N1140000W001</td>\n",
              "      <td>545.92000</td>\n",
              "    </tr>\n",
              "    <tr>\n",
              "      <th>1</th>\n",
              "      <td>325450N1171061W001</td>\n",
              "      <td>17.14000</td>\n",
              "    </tr>\n",
              "    <tr>\n",
              "      <th>2</th>\n",
              "      <td>325450N1171061W002</td>\n",
              "      <td>17.14000</td>\n",
              "    </tr>\n",
              "    <tr>\n",
              "      <th>3</th>\n",
              "      <td>325450N1171061W003</td>\n",
              "      <td>17.14000</td>\n",
              "    </tr>\n",
              "    <tr>\n",
              "      <th>4</th>\n",
              "      <td>325450N1171061W004</td>\n",
              "      <td>17.14000</td>\n",
              "    </tr>\n",
              "    <tr>\n",
              "      <th>5</th>\n",
              "      <td>325450N1171061W005</td>\n",
              "      <td>17.14000</td>\n",
              "    </tr>\n",
              "    <tr>\n",
              "      <th>6</th>\n",
              "      <td>325493N1170884W001</td>\n",
              "      <td>28.16000</td>\n",
              "    </tr>\n",
              "    <tr>\n",
              "      <th>7</th>\n",
              "      <td>325536N1170608W001</td>\n",
              "      <td>45.26000</td>\n",
              "    </tr>\n",
              "    <tr>\n",
              "      <th>8</th>\n",
              "      <td>325538N1170626W001</td>\n",
              "      <td>37.18000</td>\n",
              "    </tr>\n",
              "    <tr>\n",
              "      <th>9</th>\n",
              "      <td>325538N1170626W002</td>\n",
              "      <td>37.18000</td>\n",
              "    </tr>\n",
              "  </tbody>\n",
              "</table>\n",
              "</div>\n",
              "    <div class=\"colab-df-buttons\">\n",
              "\n",
              "  <div class=\"colab-df-container\">\n",
              "    <button class=\"colab-df-convert\" onclick=\"convertToInteractive('df-cfae3d34-3e42-477c-9584-6d2af11e866d')\"\n",
              "            title=\"Convert this dataframe to an interactive table.\"\n",
              "            style=\"display:none;\">\n",
              "\n",
              "  <svg xmlns=\"http://www.w3.org/2000/svg\" height=\"24px\" viewBox=\"0 -960 960 960\">\n",
              "    <path d=\"M120-120v-720h720v720H120Zm60-500h600v-160H180v160Zm220 220h160v-160H400v160Zm0 220h160v-160H400v160ZM180-400h160v-160H180v160Zm440 0h160v-160H620v160ZM180-180h160v-160H180v160Zm440 0h160v-160H620v160Z\"/>\n",
              "  </svg>\n",
              "    </button>\n",
              "\n",
              "  <style>\n",
              "    .colab-df-container {\n",
              "      display:flex;\n",
              "      gap: 12px;\n",
              "    }\n",
              "\n",
              "    .colab-df-convert {\n",
              "      background-color: #E8F0FE;\n",
              "      border: none;\n",
              "      border-radius: 50%;\n",
              "      cursor: pointer;\n",
              "      display: none;\n",
              "      fill: #1967D2;\n",
              "      height: 32px;\n",
              "      padding: 0 0 0 0;\n",
              "      width: 32px;\n",
              "    }\n",
              "\n",
              "    .colab-df-convert:hover {\n",
              "      background-color: #E2EBFA;\n",
              "      box-shadow: 0px 1px 2px rgba(60, 64, 67, 0.3), 0px 1px 3px 1px rgba(60, 64, 67, 0.15);\n",
              "      fill: #174EA6;\n",
              "    }\n",
              "\n",
              "    .colab-df-buttons div {\n",
              "      margin-bottom: 4px;\n",
              "    }\n",
              "\n",
              "    [theme=dark] .colab-df-convert {\n",
              "      background-color: #3B4455;\n",
              "      fill: #D2E3FC;\n",
              "    }\n",
              "\n",
              "    [theme=dark] .colab-df-convert:hover {\n",
              "      background-color: #434B5C;\n",
              "      box-shadow: 0px 1px 3px 1px rgba(0, 0, 0, 0.15);\n",
              "      filter: drop-shadow(0px 1px 2px rgba(0, 0, 0, 0.3));\n",
              "      fill: #FFFFFF;\n",
              "    }\n",
              "  </style>\n",
              "\n",
              "    <script>\n",
              "      const buttonEl =\n",
              "        document.querySelector('#df-cfae3d34-3e42-477c-9584-6d2af11e866d button.colab-df-convert');\n",
              "      buttonEl.style.display =\n",
              "        google.colab.kernel.accessAllowed ? 'block' : 'none';\n",
              "\n",
              "      async function convertToInteractive(key) {\n",
              "        const element = document.querySelector('#df-cfae3d34-3e42-477c-9584-6d2af11e866d');\n",
              "        const dataTable =\n",
              "          await google.colab.kernel.invokeFunction('convertToInteractive',\n",
              "                                                    [key], {});\n",
              "        if (!dataTable) return;\n",
              "\n",
              "        const docLinkHtml = 'Like what you see? Visit the ' +\n",
              "          '<a target=\"_blank\" href=https://colab.research.google.com/notebooks/data_table.ipynb>data table notebook</a>'\n",
              "          + ' to learn more about interactive tables.';\n",
              "        element.innerHTML = '';\n",
              "        dataTable['output_type'] = 'display_data';\n",
              "        await google.colab.output.renderOutput(dataTable, element);\n",
              "        const docLink = document.createElement('div');\n",
              "        docLink.innerHTML = docLinkHtml;\n",
              "        element.appendChild(docLink);\n",
              "      }\n",
              "    </script>\n",
              "  </div>\n",
              "\n",
              "\n",
              "<div id=\"df-c6ec0aa8-ab16-4855-b6c5-c43c8a4899e6\">\n",
              "  <button class=\"colab-df-quickchart\" onclick=\"quickchart('df-c6ec0aa8-ab16-4855-b6c5-c43c8a4899e6')\"\n",
              "            title=\"Suggest charts\"\n",
              "            style=\"display:none;\">\n",
              "\n",
              "<svg xmlns=\"http://www.w3.org/2000/svg\" height=\"24px\"viewBox=\"0 0 24 24\"\n",
              "     width=\"24px\">\n",
              "    <g>\n",
              "        <path d=\"M19 3H5c-1.1 0-2 .9-2 2v14c0 1.1.9 2 2 2h14c1.1 0 2-.9 2-2V5c0-1.1-.9-2-2-2zM9 17H7v-7h2v7zm4 0h-2V7h2v10zm4 0h-2v-4h2v4z\"/>\n",
              "    </g>\n",
              "</svg>\n",
              "  </button>\n",
              "\n",
              "<style>\n",
              "  .colab-df-quickchart {\n",
              "      --bg-color: #E8F0FE;\n",
              "      --fill-color: #1967D2;\n",
              "      --hover-bg-color: #E2EBFA;\n",
              "      --hover-fill-color: #174EA6;\n",
              "      --disabled-fill-color: #AAA;\n",
              "      --disabled-bg-color: #DDD;\n",
              "  }\n",
              "\n",
              "  [theme=dark] .colab-df-quickchart {\n",
              "      --bg-color: #3B4455;\n",
              "      --fill-color: #D2E3FC;\n",
              "      --hover-bg-color: #434B5C;\n",
              "      --hover-fill-color: #FFFFFF;\n",
              "      --disabled-bg-color: #3B4455;\n",
              "      --disabled-fill-color: #666;\n",
              "  }\n",
              "\n",
              "  .colab-df-quickchart {\n",
              "    background-color: var(--bg-color);\n",
              "    border: none;\n",
              "    border-radius: 50%;\n",
              "    cursor: pointer;\n",
              "    display: none;\n",
              "    fill: var(--fill-color);\n",
              "    height: 32px;\n",
              "    padding: 0;\n",
              "    width: 32px;\n",
              "  }\n",
              "\n",
              "  .colab-df-quickchart:hover {\n",
              "    background-color: var(--hover-bg-color);\n",
              "    box-shadow: 0 1px 2px rgba(60, 64, 67, 0.3), 0 1px 3px 1px rgba(60, 64, 67, 0.15);\n",
              "    fill: var(--button-hover-fill-color);\n",
              "  }\n",
              "\n",
              "  .colab-df-quickchart-complete:disabled,\n",
              "  .colab-df-quickchart-complete:disabled:hover {\n",
              "    background-color: var(--disabled-bg-color);\n",
              "    fill: var(--disabled-fill-color);\n",
              "    box-shadow: none;\n",
              "  }\n",
              "\n",
              "  .colab-df-spinner {\n",
              "    border: 2px solid var(--fill-color);\n",
              "    border-color: transparent;\n",
              "    border-bottom-color: var(--fill-color);\n",
              "    animation:\n",
              "      spin 1s steps(1) infinite;\n",
              "  }\n",
              "\n",
              "  @keyframes spin {\n",
              "    0% {\n",
              "      border-color: transparent;\n",
              "      border-bottom-color: var(--fill-color);\n",
              "      border-left-color: var(--fill-color);\n",
              "    }\n",
              "    20% {\n",
              "      border-color: transparent;\n",
              "      border-left-color: var(--fill-color);\n",
              "      border-top-color: var(--fill-color);\n",
              "    }\n",
              "    30% {\n",
              "      border-color: transparent;\n",
              "      border-left-color: var(--fill-color);\n",
              "      border-top-color: var(--fill-color);\n",
              "      border-right-color: var(--fill-color);\n",
              "    }\n",
              "    40% {\n",
              "      border-color: transparent;\n",
              "      border-right-color: var(--fill-color);\n",
              "      border-top-color: var(--fill-color);\n",
              "    }\n",
              "    60% {\n",
              "      border-color: transparent;\n",
              "      border-right-color: var(--fill-color);\n",
              "    }\n",
              "    80% {\n",
              "      border-color: transparent;\n",
              "      border-right-color: var(--fill-color);\n",
              "      border-bottom-color: var(--fill-color);\n",
              "    }\n",
              "    90% {\n",
              "      border-color: transparent;\n",
              "      border-bottom-color: var(--fill-color);\n",
              "    }\n",
              "  }\n",
              "</style>\n",
              "\n",
              "  <script>\n",
              "    async function quickchart(key) {\n",
              "      const quickchartButtonEl =\n",
              "        document.querySelector('#' + key + ' button');\n",
              "      quickchartButtonEl.disabled = true;  // To prevent multiple clicks.\n",
              "      quickchartButtonEl.classList.add('colab-df-spinner');\n",
              "      try {\n",
              "        const charts = await google.colab.kernel.invokeFunction(\n",
              "            'suggestCharts', [key], {});\n",
              "      } catch (error) {\n",
              "        console.error('Error during call to suggestCharts:', error);\n",
              "      }\n",
              "      quickchartButtonEl.classList.remove('colab-df-spinner');\n",
              "      quickchartButtonEl.classList.add('colab-df-quickchart-complete');\n",
              "    }\n",
              "    (() => {\n",
              "      let quickchartButtonEl =\n",
              "        document.querySelector('#df-c6ec0aa8-ab16-4855-b6c5-c43c8a4899e6 button');\n",
              "      quickchartButtonEl.style.display =\n",
              "        google.colab.kernel.accessAllowed ? 'block' : 'none';\n",
              "    })();\n",
              "  </script>\n",
              "</div>\n",
              "\n",
              "  <div id=\"id_804efbf9-7837-43a5-9e22-147386c97501\">\n",
              "    <style>\n",
              "      .colab-df-generate {\n",
              "        background-color: #E8F0FE;\n",
              "        border: none;\n",
              "        border-radius: 50%;\n",
              "        cursor: pointer;\n",
              "        display: none;\n",
              "        fill: #1967D2;\n",
              "        height: 32px;\n",
              "        padding: 0 0 0 0;\n",
              "        width: 32px;\n",
              "      }\n",
              "\n",
              "      .colab-df-generate:hover {\n",
              "        background-color: #E2EBFA;\n",
              "        box-shadow: 0px 1px 2px rgba(60, 64, 67, 0.3), 0px 1px 3px 1px rgba(60, 64, 67, 0.15);\n",
              "        fill: #174EA6;\n",
              "      }\n",
              "\n",
              "      [theme=dark] .colab-df-generate {\n",
              "        background-color: #3B4455;\n",
              "        fill: #D2E3FC;\n",
              "      }\n",
              "\n",
              "      [theme=dark] .colab-df-generate:hover {\n",
              "        background-color: #434B5C;\n",
              "        box-shadow: 0px 1px 3px 1px rgba(0, 0, 0, 0.15);\n",
              "        filter: drop-shadow(0px 1px 2px rgba(0, 0, 0, 0.3));\n",
              "        fill: #FFFFFF;\n",
              "      }\n",
              "    </style>\n",
              "    <button class=\"colab-df-generate\" onclick=\"generateWithVariable('df')\"\n",
              "            title=\"Generate code using this dataframe.\"\n",
              "            style=\"display:none;\">\n",
              "\n",
              "  <svg xmlns=\"http://www.w3.org/2000/svg\" height=\"24px\"viewBox=\"0 0 24 24\"\n",
              "       width=\"24px\">\n",
              "    <path d=\"M7,19H8.4L18.45,9,17,7.55,7,17.6ZM5,21V16.75L18.45,3.32a2,2,0,0,1,2.83,0l1.4,1.43a1.91,1.91,0,0,1,.58,1.4,1.91,1.91,0,0,1-.58,1.4L9.25,21ZM18.45,9,17,7.55Zm-12,3A5.31,5.31,0,0,0,4.9,8.1,5.31,5.31,0,0,0,1,6.5,5.31,5.31,0,0,0,4.9,4.9,5.31,5.31,0,0,0,6.5,1,5.31,5.31,0,0,0,8.1,4.9,5.31,5.31,0,0,0,12,6.5,5.46,5.46,0,0,0,6.5,12Z\"/>\n",
              "  </svg>\n",
              "    </button>\n",
              "    <script>\n",
              "      (() => {\n",
              "      const buttonEl =\n",
              "        document.querySelector('#id_804efbf9-7837-43a5-9e22-147386c97501 button.colab-df-generate');\n",
              "      buttonEl.style.display =\n",
              "        google.colab.kernel.accessAllowed ? 'block' : 'none';\n",
              "\n",
              "      buttonEl.onclick = () => {\n",
              "        google.colab.notebook.generateWithVariable('df');\n",
              "      }\n",
              "      })();\n",
              "    </script>\n",
              "  </div>\n",
              "\n",
              "    </div>\n",
              "  </div>\n"
            ],
            "application/vnd.google.colaboratory.intrinsic+json": {
              "type": "dataframe",
              "variable_name": "df",
              "summary": "{\n  \"name\": \"df\",\n  \"rows\": 10,\n  \"fields\": [\n    {\n      \"column\": \"site_code\",\n      \"properties\": {\n        \"dtype\": \"string\",\n        \"num_unique_values\": 10,\n        \"samples\": [\n          \"325538N1170626W001\",\n          \"325450N1171061W001\",\n          \"325450N1171061W005\"\n        ],\n        \"semantic_type\": \"\",\n        \"description\": \"\"\n      }\n    },\n    {\n      \"column\": \"gse\",\n      \"properties\": {\n        \"dtype\": \"string\",\n        \"num_unique_values\": 5,\n        \"samples\": [\n          \"17.14000\",\n          \"37.18000\",\n          \"28.16000\"\n        ],\n        \"semantic_type\": \"\",\n        \"description\": \"\"\n      }\n    }\n  ]\n}"
            }
          },
          "metadata": {},
          "execution_count": 11
        }
      ]
    },
    {
      "cell_type": "markdown",
      "source": [
        "# Getting started - preliminary set up"
      ],
      "metadata": {
        "id": "b2Gyg4ybi1bj"
      }
    },
    {
      "cell_type": "markdown",
      "source": [
        "## Import packages and set up some constants to streamline testing\n",
        "\n",
        "\n"
      ],
      "metadata": {
        "id": "VozesPFCpJdG"
      }
    },
    {
      "cell_type": "code",
      "source": [
        "# import libraries for examples\n",
        "\n",
        "import requests\n",
        "import json\n",
        "import pandas as pd\n",
        "import matplotlib.pyplot as plt"
      ],
      "metadata": {
        "id": "h6suPVGQo-ez"
      },
      "execution_count": null,
      "outputs": []
    },
    {
      "cell_type": "markdown",
      "source": [
        "# Example 1:  Searching for datasets in the filestore"
      ],
      "metadata": {
        "id": "ZBq0dNHQjJGc"
      }
    },
    {
      "cell_type": "markdown",
      "source": [
        "# Example 2:  Very Basic query of a datastore resource"
      ],
      "metadata": {
        "id": "G9TdNmOIjb5m"
      }
    },
    {
      "cell_type": "markdown",
      "source": [
        "# Example 3:  SQL queriying of datastore resource - simple"
      ],
      "metadata": {
        "id": "C8-4f6sijmeX"
      }
    },
    {
      "cell_type": "code",
      "source": [],
      "metadata": {
        "id": "3otPK5_zj2oq"
      },
      "execution_count": null,
      "outputs": []
    },
    {
      "cell_type": "markdown",
      "source": [
        "# Example 4:  SQL query - yes, you can do joins!"
      ],
      "metadata": {
        "id": "3hJ48mrdj1Uq"
      }
    },
    {
      "cell_type": "markdown",
      "source": [
        "# New Section"
      ],
      "metadata": {
        "id": "AaL3eAxikHoG"
      }
    }
  ]
}